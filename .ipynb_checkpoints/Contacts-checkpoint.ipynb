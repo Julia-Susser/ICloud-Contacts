{
 "cells": [
  {
   "cell_type": "code",
   "execution_count": 64,
   "id": "b017e841",
   "metadata": {},
   "outputs": [],
   "source": [
    "import pandas as pd\n",
    "import functools"
   ]
  },
  {
   "cell_type": "code",
   "execution_count": 237,
   "id": "005867f8",
   "metadata": {},
   "outputs": [
    {
     "data": {
      "text/plain": [
       "Last Name     NaN\n",
       "Home Phone      1\n",
       "Name: Albert, dtype: object"
      ]
     },
     "execution_count": 237,
     "metadata": {},
     "output_type": "execute_result"
    }
   ],
   "source": [
    "c = pd.read_csv(\"contacts.csv\")\n",
    "\n",
    "k = c.groupby([\"First Name\",\"Last Name\"],dropna=False)[\"Home Phone\"].count().to_frame().reset_index().set_index(\"First Name\")\n",
    "k.loc[\"Albert\"]"
   ]
  },
  {
   "cell_type": "code",
   "execution_count": 240,
   "id": "2abaea3b",
   "metadata": {},
   "outputs": [],
   "source": [
    "class Contacts:\n",
    "    def __init__(self):\n",
    "        self.Contacts = pd.read_csv(\"contacts.csv\")\n",
    "        b = len(self.Contacts)\n",
    "        self.Contacts = self.Contacts.drop_duplicates(ignore_index=True)\n",
    "        dup = b - len(self.Contacts) \n",
    "        self.add()\n",
    "        a = len(self.Contacts)\n",
    "        print(\"before:\",b, \"after:\",a, \"# of duplicates:\",dup, \"# compressed:\", b-a)\n",
    "        i = self.Contacts.groupby([\"First Name\",\"Last Name\"])[\"Home Phone\"].count()\n",
    "        print(\"# of different people (unique first and last names):\", len(i))\n",
    "    def merge(self,person):\n",
    "        newperson = []\n",
    "        for feature in person.columns:\n",
    "            vals = list(person[feature].dropna().unique())\n",
    "            if len(vals)==0:\n",
    "                vals = [None]\n",
    "            newF = functools.reduce(lambda a, b: str(a)+\" \"+str(b), vals)\n",
    "            newperson.append(newF)\n",
    "        return newperson\n",
    "    def createNewPersonContacts(self, person):\n",
    "        less_than_one_phone = len(person[\"Home Phone\"].dropna().unique())<=1\n",
    "        less_than_one_email = len(person[\"E-mail Address\"].dropna().unique())<=1\n",
    "        if less_than_one_phone and less_than_one_email:\n",
    "            newperson = [self.merge(person)]\n",
    "        elif not less_than_one_email and less_than_one_phone:\n",
    "            newperson = person.groupby(\"E-mail Address\").apply(self.merge).values\n",
    "        elif not less_than_one_phone and less_than_one_email: \n",
    "            newperson = person.groupby(\"Home Phone\").apply(self.merge).values\n",
    "        else:\n",
    "            newperson = person.groupby(\"E-mail Address\").apply(self.merge).values\n",
    "        newperson = list(newperson)\n",
    "        return newperson\n",
    "                \n",
    "                \n",
    "    def add(self):\n",
    "        c = self.Contacts.groupby([\"First Name\",\"Last Name\"],dropna=False)[\"Home Phone\"].count()\n",
    "        newC = []\n",
    "        for i,x in c.iteritems():\n",
    "            person = self.Contacts.loc[(self.Contacts[\"First Name\"]==i[0]) & (self.Contacts[\"Last Name\"]==i[1])]\n",
    "            newperson = self.createNewPersonContacts(person) \n",
    "            newC += newperson\n",
    "            \n",
    "        self.Contacts = pd.DataFrame(newC,columns=self.Contacts.columns)\n",
    "        self.Contacts = self.Contacts.sort_values(by=[\"First Name\",\"Last Name\"])"
   ]
  },
  {
   "cell_type": "code",
   "execution_count": 241,
   "id": "3e7df433",
   "metadata": {},
   "outputs": [
    {
     "name": "stdout",
     "output_type": "stream",
     "text": [
      "before: 6771 after: 3671 # of duplicates: 2623 # compressed: 3100\n",
      "# of different people (unique first and last names): 1940\n"
     ]
    }
   ],
   "source": [
    "c = Contacts()\n",
    "c.Contacts.to_csv(\"newContacts.csv\")"
   ]
  },
  {
   "cell_type": "code",
   "execution_count": null,
   "id": "1bbebd9b",
   "metadata": {},
   "outputs": [],
   "source": []
  }
 ],
 "metadata": {
  "kernelspec": {
   "display_name": "Python 3 (ipykernel)",
   "language": "python",
   "name": "python3"
  },
  "language_info": {
   "codemirror_mode": {
    "name": "ipython",
    "version": 3
   },
   "file_extension": ".py",
   "mimetype": "text/x-python",
   "name": "python",
   "nbconvert_exporter": "python",
   "pygments_lexer": "ipython3",
   "version": "3.10.0"
  }
 },
 "nbformat": 4,
 "nbformat_minor": 5
}
