{
 "cells": [
  {
   "cell_type": "code",
   "execution_count": 1,
   "id": "da1130c7",
   "metadata": {},
   "outputs": [],
   "source": [
    "import pandas as pd\n",
    "import functools\n",
    "import numpy as np"
   ]
  },
  {
   "cell_type": "code",
   "execution_count": 31,
   "id": "b507e2b0",
   "metadata": {},
   "outputs": [],
   "source": [
    "class Contacts:\n",
    "    def __init__(self):\n",
    "        self.Contacts = pd.read_csv(\"../input/google contacts.csv\")\n",
    "        self.fixNames()\n",
    "        self.b = len(self.Contacts)\n",
    "        self.Contacts = self.Contacts.drop_duplicates(ignore_index=True)\n",
    "        self.dup = self.b - len(self.Contacts) \n",
    "        self.add()\n",
    "        self.a = len(self.Contacts)\n",
    "        self.Contacts[\"Given Name\"] = self.Contacts[\"Name\"]\n",
    "        self.printResults()\n",
    "\n",
    "    def printResults(self):\n",
    "        print(\"before:\",self.b, \"after:\",self.a, \"# of duplicates:\",self.dup, \"# compressed:\", self.b-self.a)\n",
    "        i = self.Contacts.groupby(\"Name\")[\"Phone 1 - Value\"].count()\n",
    "        print(\"# of different people (unique first and last names):\", len(i))\n",
    "        \n",
    "    def fixNames(self):\n",
    "        v = self.Contacts.loc[~self.Contacts[\"Name\"].isnull() & self.Contacts[\"Name\"].str.contains(\"'\"),\"Name\"].values.tolist()\n",
    "        newNames = [name.strip(\"'\") if name[0]==\"'\" else name for name in v ]\n",
    "        self.Contacts.loc[~self.Contacts[\"Name\"].isnull() & self.Contacts[\"Name\"].str.contains(\"'\"),\"Name\"] = newNames\n",
    "\n",
    "    \n",
    "    def merge(self,person):\n",
    "        newperson = []\n",
    "        for feature in person.columns:\n",
    "            vals = list(person[feature].dropna().unique())\n",
    "            if len(vals)==0:\n",
    "                vals = [None]\n",
    "            newF = functools.reduce(lambda a, b: str(a)+\" \"+str(b), vals)\n",
    "            newperson.append(newF)\n",
    "        return newperson\n",
    "    def createNewPersonContacts(self, person):\n",
    "        less_than_one_phone = len(person[\"Phone 1 - Value\"].dropna().unique())<=1\n",
    "        less_than_one_email = len(person[\"E-mail 1 - Value\"].dropna().unique())<=1\n",
    "        if less_than_one_phone and less_than_one_email:\n",
    "            newperson = [self.merge(person)]\n",
    "        elif not less_than_one_email and less_than_one_phone:\n",
    "            newperson = person.groupby(\"E-mail 1 - Value\").apply(self.merge).values\n",
    "        elif not less_than_one_phone and less_than_one_email: \n",
    "            newperson = person.groupby(\"Phone 1 - Value\").apply(self.merge).values\n",
    "        else:\n",
    "            newperson = person.groupby(\"E-mail 1 - Value\").apply(self.merge).values\n",
    "        newperson = list(newperson)\n",
    "        return newperson\n",
    "                \n",
    "                \n",
    "    def add(self):\n",
    "        c = self.Contacts.groupby(\"Name\",dropna=False)\n",
    "        newC = []\n",
    "        o = 0\n",
    "        for i,person in c:\n",
    "            newperson = self.createNewPersonContacts(person) \n",
    "            o += len(person)\n",
    "            newC += newperson\n",
    "        \n",
    "        print(len(self.Contacts),o)\n",
    "            \n",
    "        self.Contacts = pd.DataFrame(newC,columns=self.Contacts.columns)\n",
    "        self.Contacts = self.Contacts.sort_values(by=\"Name\")"
   ]
  },
  {
   "cell_type": "code",
   "execution_count": 32,
   "id": "08626a46",
   "metadata": {},
   "outputs": [
    {
     "name": "stdout",
     "output_type": "stream",
     "text": [
      "4121 4121\n",
      "before: 6775 after: 3810 # of duplicates: 2654 # compressed: 2965\n",
      "# of different people (unique first and last names): 3549\n"
     ]
    }
   ],
   "source": [
    "c = Contacts()\n",
    "c.Contacts.to_csv(\"../output/newGoogleContacts.csv\",index=False)"
   ]
  },
  {
   "cell_type": "code",
   "execution_count": 37,
   "id": "9ce53b91",
   "metadata": {},
   "outputs": [],
   "source": [
    "c.Contacts.iloc[0:1500].to_csv(\"../output/parts new gcontacts/gcontacts-p1.csv\")\n",
    "c.Contacts.iloc[1500:3000].to_csv(\"../output/parts new gcontacts/gcontacts-p2.csv\")\n",
    "c.Contacts.iloc[3000:len(c.Contacts)].to_csv(\"../output/parts new gcontacts/gcontacts-p3.csv\")"
   ]
  },
  {
   "cell_type": "code",
   "execution_count": 388,
   "id": "69ddf724",
   "metadata": {},
   "outputs": [],
   "source": [
    "c.Contacts.to_csv(\"newContacts.csv\",index=False)"
   ]
  },
  {
   "cell_type": "code",
   "execution_count": 381,
   "id": "29be85e9",
   "metadata": {},
   "outputs": [
    {
     "data": {
      "text/plain": [
       "True"
      ]
     },
     "execution_count": 381,
     "metadata": {},
     "output_type": "execute_result"
    }
   ],
   "source": [
    "np.nan != np.nan"
   ]
  },
  {
   "cell_type": "code",
   "execution_count": 391,
   "id": "a5e47231",
   "metadata": {},
   "outputs": [],
   "source": [
    "c.Contacts.iloc[20:24].to_csv(\"practice Contacts.csv\",index=False)"
   ]
  },
  {
   "cell_type": "code",
   "execution_count": null,
   "id": "0b7ac9a6",
   "metadata": {},
   "outputs": [],
   "source": []
  }
 ],
 "metadata": {
  "kernelspec": {
   "display_name": "Python 3 (ipykernel)",
   "language": "python",
   "name": "python3"
  },
  "language_info": {
   "codemirror_mode": {
    "name": "ipython",
    "version": 3
   },
   "file_extension": ".py",
   "mimetype": "text/x-python",
   "name": "python",
   "nbconvert_exporter": "python",
   "pygments_lexer": "ipython3",
   "version": "3.10.0"
  }
 },
 "nbformat": 4,
 "nbformat_minor": 5
}
